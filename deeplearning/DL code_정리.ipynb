{
 "cells": [
  {
   "cell_type": "markdown",
   "metadata": {},
   "source": [
    "# COURSERA python code\n",
    "# DEEP LEARNING\n",
    "### Neural Networks and Deep learning\n",
    "#### 2 Weeks - Vectorization"
   ]
  },
  {
   "cell_type": "code",
   "execution_count": 1,
   "metadata": {},
   "outputs": [
    {
     "name": "stdout",
     "output_type": "stream",
     "text": [
      "[1 2 3 4]\n"
     ]
    }
   ],
   "source": [
    "import numpy as np\n",
    "\n",
    "a = np.array([1,2,3,4])\n",
    "print(a)"
   ]
  },
  {
   "cell_type": "code",
   "execution_count": 4,
   "metadata": {},
   "outputs": [
    {
     "name": "stdout",
     "output_type": "stream",
     "text": [
      "250134.6341406066\n",
      "Vectorized version:1.0297298431396484ms\n",
      "250134.63414059702\n",
      "For loop:557.2218894958496ms\n"
     ]
    }
   ],
   "source": [
    "import time\n",
    "\n",
    "a = np.random.rand(1000000)\n",
    "b = np.random.rand(1000000)\n",
    "\n",
    "tic = time.time()\n",
    "c = np.dot(a,b)\n",
    "toc = time.time()\n",
    "\n",
    "print(c)\n",
    "print(\"Vectorized version:\" + str(1000*(toc-tic))+\"ms\")\n",
    "\n",
    "c=0\n",
    "tic = time.time()\n",
    "for i in range(1000000):\n",
    "    c += a[i]*b[i]\n",
    "toc = time.time()\n",
    "\n",
    "print(c)\n",
    "print(\"For loop:\" + str(1000*(toc-tic))+\"ms\")\n",
    "\n",
    "# for loop의 경우가 300배 느리다는 것을 알 수 있다.\n",
    "# 벡터화의 중요성!"
   ]
  },
  {
   "cell_type": "markdown",
   "metadata": {},
   "source": [
    "#### 2 Weeks - Broadcasting in python"
   ]
  },
  {
   "cell_type": "code",
   "execution_count": 5,
   "metadata": {},
   "outputs": [
    {
     "name": "stdout",
     "output_type": "stream",
     "text": [
      "[[ 56.    0.    4.4  68. ]\n",
      " [  1.2 104.   52.    8. ]\n",
      " [  1.8 135.   99.    0.9]]\n"
     ]
    }
   ],
   "source": [
    "import numpy as np\n",
    "\n",
    "A = np.array([[56.0, 0.0, 4.4, 68.0],\n",
    "            [1.2,104.0,52.0,8.0],\n",
    "            [1.8,135.0,99.0,0.9]])\n",
    "\n",
    "print(A)"
   ]
  },
  {
   "cell_type": "code",
   "execution_count": 6,
   "metadata": {},
   "outputs": [
    {
     "name": "stdout",
     "output_type": "stream",
     "text": [
      "[ 59.  239.  155.4  76.9]\n"
     ]
    }
   ],
   "source": [
    "cal = A.sum(axis=0) \n",
    "# axis = 0 (열) 세로로 더하기 axis = 1 (행) 가로로 더하기\n",
    "print(cal)"
   ]
  },
  {
   "cell_type": "code",
   "execution_count": 7,
   "metadata": {},
   "outputs": [
    {
     "name": "stdout",
     "output_type": "stream",
     "text": [
      "[[0.94915254 0.         0.02831403 0.88426528]\n",
      " [0.02033898 0.43514644 0.33462033 0.10403121]\n",
      " [0.03050847 0.56485356 0.63706564 0.01170351]]\n"
     ]
    }
   ],
   "source": [
    "percentage = A/cal.reshape(1,4)\n",
    "print(percentage)"
   ]
  },
  {
   "cell_type": "markdown",
   "metadata": {},
   "source": [
    "#### 2 Weeks - A note on python/numpy vectors"
   ]
  },
  {
   "cell_type": "code",
   "execution_count": 9,
   "metadata": {},
   "outputs": [
    {
     "name": "stdout",
     "output_type": "stream",
     "text": [
      "[0.86110671 1.49601902 0.14126547 0.50981686 0.06131514]\n"
     ]
    }
   ],
   "source": [
    "import numpy as np\n",
    "\n",
    "a = np.random.randn(5)\n",
    "print(a)"
   ]
  },
  {
   "cell_type": "code",
   "execution_count": 10,
   "metadata": {},
   "outputs": [
    {
     "name": "stdout",
     "output_type": "stream",
     "text": [
      "(5,)\n"
     ]
    }
   ],
   "source": [
    "print(a.shape) # rank 1 array 되도록 사용하지 말기. (5,1) 사용하기."
   ]
  },
  {
   "cell_type": "code",
   "execution_count": 11,
   "metadata": {},
   "outputs": [
    {
     "name": "stdout",
     "output_type": "stream",
     "text": [
      "[0.86110671 1.49601902 0.14126547 0.50981686 0.06131514]\n"
     ]
    }
   ],
   "source": [
    "print(a.T)"
   ]
  },
  {
   "cell_type": "code",
   "execution_count": 12,
   "metadata": {},
   "outputs": [
    {
     "name": "stdout",
     "output_type": "stream",
     "text": [
      "3.263206380431947\n"
     ]
    }
   ],
   "source": [
    "print(np.dot(a,a.T))"
   ]
  },
  {
   "cell_type": "markdown",
   "metadata": {},
   "source": [
    "### Improving Deep Neural Networks\n",
    "#### 3 Weeks - TensorFlow"
   ]
  },
  {
   "cell_type": "code",
   "execution_count": 2,
   "metadata": {},
   "outputs": [
    {
     "name": "stdout",
     "output_type": "stream",
     "text": [
      "Collecting package metadata (current_repodata.json): ...working... done\n",
      "Solving environment: ...working... failed with initial frozen solve. Retrying with flexible solve.\n",
      "Solving environment: ...working... failed with repodata from current_repodata.json, will retry with next repodata source.\n",
      "Collecting package metadata (repodata.json): ...working... done\n",
      "Solving environment: ...working... done\n",
      "\n",
      "## Package Plan ##\n",
      "\n",
      "  environment location: C:\\Users\\yeongeunkim\\Anaconda3\n",
      "\n",
      "  added / updated specs:\n",
      "    - tensorflow\n",
      "\n",
      "\n",
      "The following packages will be downloaded:\n",
      "\n",
      "    package                    |            build\n",
      "    ---------------------------|-----------------\n",
      "    _tflow_select-2.3.0        |              mkl           3 KB\n",
      "    absl-py-0.11.0             |     pyhd3eb1b0_1         103 KB\n",
      "    astor-0.8.1                |   py37haa95532_0          47 KB\n",
      "    gast-0.4.0                 |             py_0          15 KB\n",
      "    grpcio-1.16.1              |   py37h351948d_1         850 KB\n",
      "    importlib-metadata-2.0.0   |             py_1          35 KB\n",
      "    keras-applications-1.0.8   |             py_1          29 KB\n",
      "    keras-preprocessing-1.1.2  |     pyhd3eb1b0_0          35 KB\n",
      "    libmklml-2019.0.5          |       haa95532_0        17.5 MB\n",
      "    libprotobuf-3.8.0          |       h7bd577a_0         1.8 MB\n",
      "    markdown-3.3.3             |   py37haa95532_0         167 KB\n",
      "    protobuf-3.8.0             |   py37h33f27b4_0         527 KB\n",
      "    tensorboard-1.14.0         |   py37he3c9ec2_0         3.1 MB\n",
      "    tensorflow-1.14.0          |mkl_py37h7908ca0_0           5 KB\n",
      "    tensorflow-base-1.14.0     |mkl_py37ha978198_0        35.8 MB\n",
      "    tensorflow-estimator-1.14.0|             py_0         261 KB\n",
      "    termcolor-1.1.0            |           py37_1           8 KB\n",
      "    ------------------------------------------------------------\n",
      "                                           Total:        60.2 MB\n",
      "\n",
      "The following NEW packages will be INSTALLED:\n",
      "\n",
      "  _tflow_select      pkgs/main/win-64::_tflow_select-2.3.0-mkl\n",
      "  absl-py            pkgs/main/noarch::absl-py-0.11.0-pyhd3eb1b0_1\n",
      "  astor              pkgs/main/win-64::astor-0.8.1-py37haa95532_0\n",
      "  gast               pkgs/main/noarch::gast-0.4.0-py_0\n",
      "  grpcio             pkgs/main/win-64::grpcio-1.16.1-py37h351948d_1\n",
      "  importlib-metadata pkgs/main/noarch::importlib-metadata-2.0.0-py_1\n",
      "  keras-applications pkgs/main/noarch::keras-applications-1.0.8-py_1\n",
      "  keras-preprocessi~ pkgs/main/noarch::keras-preprocessing-1.1.2-pyhd3eb1b0_0\n",
      "  libmklml           pkgs/main/win-64::libmklml-2019.0.5-haa95532_0\n",
      "  libprotobuf        pkgs/main/win-64::libprotobuf-3.8.0-h7bd577a_0\n",
      "  markdown           pkgs/main/win-64::markdown-3.3.3-py37haa95532_0\n",
      "  protobuf           pkgs/main/win-64::protobuf-3.8.0-py37h33f27b4_0\n",
      "  tensorboard        pkgs/main/win-64::tensorboard-1.14.0-py37he3c9ec2_0\n",
      "  tensorflow         pkgs/main/win-64::tensorflow-1.14.0-mkl_py37h7908ca0_0\n",
      "  tensorflow-base    pkgs/main/win-64::tensorflow-base-1.14.0-mkl_py37ha978198_0\n",
      "  tensorflow-estima~ pkgs/main/noarch::tensorflow-estimator-1.14.0-py_0\n",
      "  termcolor          pkgs/main/win-64::termcolor-1.1.0-py37_1\n",
      "\n",
      "\n",
      "\n",
      "Downloading and Extracting Packages\n",
      "\n",
      "_tflow_select-2.3.0  | 3 KB      |            |   0% \n",
      "_tflow_select-2.3.0  | 3 KB      | ########## | 100% \n",
      "_tflow_select-2.3.0  | 3 KB      | ########## | 100% \n",
      "\n",
      "keras-preprocessing- | 35 KB     |            |   0% \n",
      "keras-preprocessing- | 35 KB     | ####5      |  46% \n",
      "keras-preprocessing- | 35 KB     | ########## | 100% \n",
      "keras-preprocessing- | 35 KB     | ########## | 100% \n",
      "\n",
      "markdown-3.3.3       | 167 KB    |            |   0% \n",
      "markdown-3.3.3       | 167 KB    | ########## | 100% \n",
      "markdown-3.3.3       | 167 KB    | ########## | 100% \n",
      "\n",
      "tensorflow-base-1.14 | 35.8 MB   |            |   0% \n",
      "tensorflow-base-1.14 | 35.8 MB   | 3          |   4% \n",
      "tensorflow-base-1.14 | 35.8 MB   | 7          |   7% \n",
      "tensorflow-base-1.14 | 35.8 MB   | #2         |  12% \n",
      "tensorflow-base-1.14 | 35.8 MB   | #4         |  14% \n",
      "tensorflow-base-1.14 | 35.8 MB   | #8         |  18% \n",
      "tensorflow-base-1.14 | 35.8 MB   | ##2        |  22% \n",
      "tensorflow-base-1.14 | 35.8 MB   | ##5        |  26% \n",
      "tensorflow-base-1.14 | 35.8 MB   | ###6       |  36% \n",
      "tensorflow-base-1.14 | 35.8 MB   | ####1      |  41% \n",
      "tensorflow-base-1.14 | 35.8 MB   | #####1     |  51% \n",
      "tensorflow-base-1.14 | 35.8 MB   | #####8     |  59% \n",
      "tensorflow-base-1.14 | 35.8 MB   | ######4    |  64% \n",
      "tensorflow-base-1.14 | 35.8 MB   | #######5   |  75% \n",
      "tensorflow-base-1.14 | 35.8 MB   | ########2  |  82% \n",
      "tensorflow-base-1.14 | 35.8 MB   | #########3 |  93% \n",
      "tensorflow-base-1.14 | 35.8 MB   | ########## | 100% \n",
      "\n",
      "protobuf-3.8.0       | 527 KB    |            |   0% \n",
      "protobuf-3.8.0       | 527 KB    | ########## | 100% \n",
      "protobuf-3.8.0       | 527 KB    | ########## | 100% \n",
      "\n",
      "absl-py-0.11.0       | 103 KB    |            |   0% \n",
      "absl-py-0.11.0       | 103 KB    | ########## | 100% \n",
      "absl-py-0.11.0       | 103 KB    | ########## | 100% \n",
      "\n",
      "keras-applications-1 | 29 KB     |            |   0% \n",
      "keras-applications-1 | 29 KB     | ########## | 100% \n",
      "keras-applications-1 | 29 KB     | ########## | 100% \n",
      "\n",
      "grpcio-1.16.1        | 850 KB    |            |   0% \n",
      "grpcio-1.16.1        | 850 KB    | ########## | 100% \n",
      "grpcio-1.16.1        | 850 KB    | ########## | 100% \n",
      "\n",
      "astor-0.8.1          | 47 KB     |            |   0% \n",
      "astor-0.8.1          | 47 KB     | ########## | 100% \n",
      "astor-0.8.1          | 47 KB     | ########## | 100% \n",
      "\n",
      "tensorflow-estimator | 261 KB    |            |   0% \n",
      "tensorflow-estimator | 261 KB    | ########## | 100% \n",
      "tensorflow-estimator | 261 KB    | ########## | 100% \n",
      "\n",
      "tensorflow-1.14.0    | 5 KB      |            |   0% \n",
      "tensorflow-1.14.0    | 5 KB      | ########## | 100% \n",
      "tensorflow-1.14.0    | 5 KB      | ########## | 100% \n",
      "\n",
      "libprotobuf-3.8.0    | 1.8 MB    |            |   0% \n",
      "libprotobuf-3.8.0    | 1.8 MB    | ########## | 100% \n",
      "libprotobuf-3.8.0    | 1.8 MB    | ########## | 100% \n",
      "\n",
      "gast-0.4.0           | 15 KB     |            |   0% \n",
      "gast-0.4.0           | 15 KB     | ########## | 100% \n",
      "gast-0.4.0           | 15 KB     | ########## | 100% \n",
      "\n",
      "termcolor-1.1.0      | 8 KB      |            |   0% \n",
      "termcolor-1.1.0      | 8 KB      | ########## | 100% \n",
      "termcolor-1.1.0      | 8 KB      | ########## | 100% \n",
      "\n",
      "tensorboard-1.14.0   | 3.1 MB    |            |   0% \n",
      "tensorboard-1.14.0   | 3.1 MB    | ########## | 100% \n",
      "tensorboard-1.14.0   | 3.1 MB    | ########## | 100% \n",
      "\n",
      "importlib-metadata-2 | 35 KB     |            |   0% \n",
      "importlib-metadata-2 | 35 KB     | ########## | 100% \n",
      "importlib-metadata-2 | 35 KB     | ########## | 100% \n",
      "\n",
      "libmklml-2019.0.5    | 17.5 MB   |            |   0% \n",
      "libmklml-2019.0.5    | 17.5 MB   | #5         |  16% \n",
      "libmklml-2019.0.5    | 17.5 MB   | ###5       |  36% \n",
      "libmklml-2019.0.5    | 17.5 MB   | #####6     |  56% \n",
      "libmklml-2019.0.5    | 17.5 MB   | #######7   |  78% \n",
      "libmklml-2019.0.5    | 17.5 MB   | #########7 |  98% \n",
      "libmklml-2019.0.5    | 17.5 MB   | ########## | 100% \n",
      "Preparing transaction: ...working... done\n",
      "Verifying transaction: ...working... done\n",
      "Executing transaction: ...working... done\n",
      "\n",
      "Note: you may need to restart the kernel to use updated packages.\n"
     ]
    }
   ],
   "source": [
    "conda install tensorflow"
   ]
  },
  {
   "cell_type": "code",
   "execution_count": 3,
   "metadata": {},
   "outputs": [],
   "source": [
    "import numpy as np\n",
    "import tensorflow as tf"
   ]
  },
  {
   "cell_type": "code",
   "execution_count": 13,
   "metadata": {},
   "outputs": [],
   "source": [
    "w = tf.Variable(0,dtype=tf.float32) "
   ]
  },
  {
   "cell_type": "code",
   "execution_count": 18,
   "metadata": {
    "scrolled": true
   },
   "outputs": [
    {
     "name": "stdout",
     "output_type": "stream",
     "text": [
      "0.0\n"
     ]
    }
   ],
   "source": [
    "w = tf.Variable(0,dtype=tf.float32) # w를 0으로 초기화\n",
    "#cost = tf.add(tf.add(w**2,tf.multiply(-10,w)),25) # 비용함수 정의\n",
    "cost = w**2 - 10*w + 25\n",
    "train = tf.train.GradientDescentOptimizer(0.01).minimize(cost) \n",
    "# trian이 러닝 알고리즘이 되도록 정의\n",
    "\n",
    "# global variables 초기화\n",
    "init = tf.global_variables_initializer()\n",
    "session = tf.Session()\n",
    "session.run(init) \n",
    "print(session.run(w)) #evaluative variable"
   ]
  },
  {
   "cell_type": "code",
   "execution_count": 19,
   "metadata": {},
   "outputs": [
    {
     "name": "stdout",
     "output_type": "stream",
     "text": [
      "0.099999994\n"
     ]
    }
   ],
   "source": [
    "session.run(train)\n",
    "print(session.run(w))"
   ]
  },
  {
   "cell_type": "code",
   "execution_count": 20,
   "metadata": {},
   "outputs": [
    {
     "name": "stdout",
     "output_type": "stream",
     "text": [
      "4.9999886\n"
     ]
    }
   ],
   "source": [
    "for i in range(1000):\n",
    "    session.run(train)\n",
    "print(session.run(w))"
   ]
  },
  {
   "cell_type": "code",
   "execution_count": 25,
   "metadata": {},
   "outputs": [
    {
     "name": "stdout",
     "output_type": "stream",
     "text": [
      "0.0\n"
     ]
    }
   ],
   "source": [
    "coefficients = np.array([[1.],[-10.],[25.]])\n",
    "\n",
    "w = tf.Variable(0,dtype = tf.float32) # w를 0으로 초기화\n",
    "x = tf.placeholder(tf.float32,[3,1])\n",
    "cost = x[0][0]*w**2 + x[1][0]*w + x[2][0] #(w-5)**2\n",
    "train = tf.train.GradientDescentOptimizer(0.01).minimize(cost) \n",
    "# trian이 러닝 알고리즘이 되도록 정의\n",
    "\n",
    "# global variables 초기화\n",
    "init = tf.global_variables_initializer()\n",
    "session = tf.Session()\n",
    "session.run(init) \n",
    "print(session.run(w)) #evaluative variable"
   ]
  },
  {
   "cell_type": "code",
   "execution_count": 26,
   "metadata": {},
   "outputs": [
    {
     "name": "stdout",
     "output_type": "stream",
     "text": [
      "0.099999994\n"
     ]
    }
   ],
   "source": [
    "session.run(train, feed_dict={x:coefficients})\n",
    "print(session.run(w))"
   ]
  },
  {
   "cell_type": "code",
   "execution_count": 27,
   "metadata": {},
   "outputs": [
    {
     "name": "stdout",
     "output_type": "stream",
     "text": [
      "4.9999886\n"
     ]
    }
   ],
   "source": [
    "for i in range(1000):\n",
    "    session.run(train, feed_dict={x:coefficients})\n",
    "print(session.run(w))"
   ]
  },
  {
   "cell_type": "code",
   "execution_count": null,
   "metadata": {},
   "outputs": [],
   "source": []
  }
 ],
 "metadata": {
  "kernelspec": {
   "display_name": "Python 3",
   "language": "python",
   "name": "python3"
  },
  "language_info": {
   "codemirror_mode": {
    "name": "ipython",
    "version": 3
   },
   "file_extension": ".py",
   "mimetype": "text/x-python",
   "name": "python",
   "nbconvert_exporter": "python",
   "pygments_lexer": "ipython3",
   "version": "3.7.3"
  }
 },
 "nbformat": 4,
 "nbformat_minor": 2
}
